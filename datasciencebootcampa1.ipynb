{
  "nbformat": 4,
  "nbformat_minor": 0,
  "metadata": {
    "colab": {
      "provenance": []
    },
    "kernelspec": {
      "name": "python3",
      "display_name": "Python 3"
    },
    "language_info": {
      "name": "python"
    }
  },
  "cells": [
    {
      "cell_type": "code",
      "execution_count": 11,
      "metadata": {
        "colab": {
          "base_uri": "https://localhost:8080/"
        },
        "id": "sfBCfdkHUBO_",
        "outputId": "bff903b9-a386-4366-8973-651fb4d62de8"
      },
      "outputs": [
        {
          "output_type": "stream",
          "name": "stdout",
          "text": [
            "[0, 1, 1, 2, 3, 5, 8, 13, 21, 34]\n"
          ]
        }
      ],
      "source": [
        "def fibonacci_recursive(n):\n",
        "    if n <= 1:\n",
        "        return n\n",
        "    else:\n",
        "        return fibonacci_recursive(n - 1) + fibonacci_recursive(n - 2)\n",
        "fib_sequence = [fibonacci_recursive(i) for i in range(10)]\n",
        "print(fib_sequence)\n",
        "\n"
      ]
    },
    {
      "cell_type": "code",
      "source": [
        "def odd_indices(lst):\n",
        "    return [lst[i] for i in range(1, len(lst), 2)]\n",
        "lst = [ 3 ,4 ,5 ,6 , 7, 8]\n",
        "print(odd_indices(lst))\n"
      ],
      "metadata": {
        "colab": {
          "base_uri": "https://localhost:8080/"
        },
        "id": "AsWX1hUMUWxR",
        "outputId": "3fe94826-16e0-402a-856c-90a75ee38433"
      },
      "execution_count": 13,
      "outputs": [
        {
          "output_type": "stream",
          "name": "stdout",
          "text": [
            "[4, 6, 8]\n"
          ]
        }
      ]
    },
    {
      "cell_type": "code",
      "source": [
        "import re\n",
        "\n",
        "def calculate_distinct_terms(text_content):\n",
        "    term_list = re.findall(r'\\b\\w+\\b', text_content.lower())\n",
        "    distinct_terms = set(term_list)\n",
        "    return len(distinct_terms), distinct_terms\n",
        "\n",
        "paragraph = \"\"\"\n",
        "I have provided this text to provide tips on creating interesting paragraphs.\n",
        "\n",
        "First, start with a clear topic sentence that introduces the main idea.\n",
        "\n",
        "Then, support the topic sentence with specific details, examples, and evidence.\n",
        "\n",
        "Vary the sentence length and structure to keep the reader engaged.\n",
        "\n",
        "Finally, end with a strong concluding sentence that summarizes the main points.\n",
        "\n",
        "Remember, practice makes perfect!\n",
        "\"\"\"\n",
        "\n",
        "distinct_term_count, distinct_terms = calculate_distinct_terms(paragraph)\n",
        "print(f\"Number of different terms: {distinct_term_count}\")\n",
        "print(\"Distinct terms:\", distinct_terms)\n"
      ],
      "metadata": {
        "colab": {
          "base_uri": "https://localhost:8080/"
        },
        "id": "lBHFhMCKU3vc",
        "outputId": "4312f243-c873-46f2-9bfc-a397328586ed"
      },
      "execution_count": 14,
      "outputs": [
        {
          "output_type": "stream",
          "name": "stdout",
          "text": [
            "Number of different terms: 47\n",
            "Distinct terms: {'idea', 'then', 'a', 'summarizes', 'main', 'practice', 'structure', 'with', 'support', 'this', 'finally', 'makes', 'on', 'interesting', 'provided', 'tips', 'text', 'and', 'remember', 'vary', 'concluding', 'paragraphs', 'topic', 'evidence', 'engaged', 'points', 'sentence', 'examples', 'creating', 'have', 'details', 'that', 'length', 'introduces', 'keep', 'reader', 'perfect', 'provide', 'i', 'clear', 'the', 'end', 'strong', 'to', 'specific', 'first', 'start'}\n"
          ]
        }
      ]
    },
    {
      "cell_type": "code",
      "source": [
        "def count_vowels(word):\n",
        "    vowels = \"aeiouAEIOU\"\n",
        "    vowel_count = sum(1 for char in word if char in vowels)\n",
        "    return vowel_count\n",
        "word = \"krittin\"\n",
        "print(f\"vowels in '{word}' are: {count_vowels(word)}\")\n"
      ],
      "metadata": {
        "colab": {
          "base_uri": "https://localhost:8080/"
        },
        "id": "_gvuRO7SWsPB",
        "outputId": "8584cd13-c537-4cc8-c398-1df22a8c987a"
      },
      "execution_count": 17,
      "outputs": [
        {
          "output_type": "stream",
          "name": "stdout",
          "text": [
            "vowels in 'krittin' are: 2\n"
          ]
        }
      ]
    },
    {
      "cell_type": "code",
      "source": [
        "animals = ['tiger', 'elephant', 'monkey', 'zebra', 'panther']\n",
        "\n",
        "for animal in animals:\n",
        "    print(animal.upper())\n"
      ],
      "metadata": {
        "colab": {
          "base_uri": "https://localhost:8080/"
        },
        "id": "98pc7kzYXSOF",
        "outputId": "620eedcd-12c6-47b0-a26b-bd88e0e65085"
      },
      "execution_count": 18,
      "outputs": [
        {
          "output_type": "stream",
          "name": "stdout",
          "text": [
            "TIGER\n",
            "ELEPHANT\n",
            "MONKEY\n",
            "ZEBRA\n",
            "PANTHER\n"
          ]
        }
      ]
    },
    {
      "cell_type": "code",
      "source": [
        "for number in range(1, 21):\n",
        "    if number % 2 == 0:\n",
        "        print(f\"{number} is even\")\n",
        "    else:\n",
        "        print(f\"{number} is odd\")"
      ],
      "metadata": {
        "colab": {
          "base_uri": "https://localhost:8080/"
        },
        "id": "hZMfzcNBXctq",
        "outputId": "d3fefacd-8aa9-438a-a48a-4d770538ad38"
      },
      "execution_count": 20,
      "outputs": [
        {
          "output_type": "stream",
          "name": "stdout",
          "text": [
            "1 is odd\n",
            "2 is even\n",
            "3 is odd\n",
            "4 is even\n",
            "5 is odd\n",
            "6 is even\n",
            "7 is odd\n",
            "8 is even\n",
            "9 is odd\n",
            "10 is even\n",
            "11 is odd\n",
            "12 is even\n",
            "13 is odd\n",
            "14 is even\n",
            "15 is odd\n",
            "16 is even\n",
            "17 is odd\n",
            "18 is even\n",
            "19 is odd\n",
            "20 is even\n"
          ]
        }
      ]
    },
    {
      "cell_type": "code",
      "source": [
        "def sum_of_integers(a, b):\n",
        "    return a + b\n",
        "n1 = int(input(\"first integer: \"))\n",
        "n2 = int(input(\"second integer: \"))\n",
        "result = sum_of_integers(n1, n2)\n",
        "print(f\"The sum of {n1} and {n2} is: {result}\")\n"
      ],
      "metadata": {
        "colab": {
          "base_uri": "https://localhost:8080/"
        },
        "id": "ltr0gCHHXuIs",
        "outputId": "edcc20e9-f4ee-42e0-9b95-9465d43dbdcf"
      },
      "execution_count": 21,
      "outputs": [
        {
          "output_type": "stream",
          "name": "stdout",
          "text": [
            "first integer: 12\n",
            "second integer: 12\n",
            "The sum of 12 and 12 is: 24\n"
          ]
        }
      ]
    }
  ]
}